{
 "cells": [
  {
   "cell_type": "markdown",
   "metadata": {},
   "source": [
    "# Proyecto Ising"
   ]
  },
  {
   "cell_type": "code",
   "execution_count": 1,
   "metadata": {},
   "outputs": [],
   "source": [
    "#Bibliotecas útiles\n",
    "import numpy as np\n",
    "import matplotlib.pyplot as plt\n",
    "import time"
   ]
  },
  {
   "cell_type": "markdown",
   "metadata": {},
   "source": [
    "## Clase Hamiltoniano"
   ]
  },
  {
   "cell_type": "code",
   "execution_count": 2,
   "metadata": {},
   "outputs": [],
   "source": [
    "class Hamiltoniano:\n",
    "  def __init__(self, J, g, N):\n",
    "    self.J = J\n",
    "    self.g = g\n",
    "    self.N = N\n",
    "\n",
    "  def pauliX(self):\n",
    "    return np.array([[0,1],[1,0]])\n",
    "\n",
    "  def pauliZ(self):\n",
    "      return np.array([[1,0],[0,-1]])\n",
    "\n",
    "  def identidad(self):\n",
    "      return np.array([[1,0],[0,1]])\n",
    "\n",
    "    #funcion para calcular producto tensorial\n",
    "  def productoTensorial(self, matrizA, matrizB):\n",
    "    m = len(matrizA)\n",
    "    n = len(matrizA[0])\n",
    "    p = len(matrizB)\n",
    "    q = len(matrizB[0])\n",
    "\n",
    "    result = np.zeros((m * p, n * q))\n",
    "\n",
    "    for i in range(m):\n",
    "        for j in range(n):\n",
    "            for k in range(p):\n",
    "                for l in range(q):\n",
    "                    result[i * p + k][j * q + l] = matrizA[i][j] * matrizB[k][l]\n",
    "\n",
    "    return result\n",
    "\n",
    "    #ordenar productos tensoriales para x\n",
    "  def ordenadorX(self, i):\n",
    "    result = self.identidad()\n",
    "\n",
    "    for k in range(1, self.N + 1):\n",
    "        if k == 1:\n",
    "            if k == i:\n",
    "                result = self.pauliX()\n",
    "            else:\n",
    "                result = self.identidad()\n",
    "        else:\n",
    "            if k == i:\n",
    "                result = self.productoTensorial(result, self.pauliX())\n",
    "            else:\n",
    "                result = self.productoTensorial(result, self.identidad())\n",
    "    return result\n",
    "\n",
    "    #ordenar productos tensoriales para z\n",
    "  def ordenadorZ(self, i):\n",
    "    result = self.identidad()\n",
    "\n",
    "    for k in range(1, self.N + 1):\n",
    "        if k == 1:\n",
    "            if k == i:\n",
    "                result = self.pauliZ()\n",
    "            else:\n",
    "                result = self.identidad()\n",
    "        elif k == i:\n",
    "            result = self.productoTensorial(result, self.pauliZ())\n",
    "        elif k == i+1:\n",
    "            result = self.productoTensorial(result, self.pauliZ())\n",
    "        else:\n",
    "            result = self.productoTensorial(result, self.identidad())\n",
    "    return result\n",
    "\n",
    "    #construir hamiltoniano\n",
    "  def construirHamiltoniano(self):\n",
    "    sumZ = np.zeros((2**self.N, 2**self.N))\n",
    "    for i in range(1, self.N):\n",
    "        sumZ += self.ordenadorZ(i)\n",
    "    sumZ *= -self.J\n",
    "\n",
    "    sumX = np.zeros((2**self.N, 2**self.N))\n",
    "    for i in range(1, self.N + 1):\n",
    "        sumX += self.ordenadorX(i)\n",
    "    sumX *= -self.g\n",
    "\n",
    "    return sumZ + sumX"
   ]
  },
  {
   "cell_type": "code",
   "execution_count": 3,
   "metadata": {},
   "outputs": [
    {
     "name": "stdout",
     "output_type": "stream",
     "text": [
      "[[-9. -1. -1. ... -0. -0. -0.]\n",
      " [-1. -7. -0. ... -0. -0. -0.]\n",
      " [-1. -0. -5. ... -0. -0. -0.]\n",
      " ...\n",
      " [-0. -0. -0. ... -5. -0. -1.]\n",
      " [-0. -0. -0. ... -0. -7. -1.]\n",
      " [-0. -0. -0. ... -1. -1. -9.]]\n",
      "34.90878176689148\n"
     ]
    }
   ],
   "source": [
    "#imprimir hamiltoniano (solo para verificar y valores pequños)\n",
    "t1 = time.time()\n",
    "Ham = Hamiltoniano(1, 1, 10)\n",
    "H = Ham.construirHamiltoniano()\n",
    "t2 = time.time()\n",
    "\n",
    "print(H)\n",
    "print(t2-t1)"
   ]
  },
  {
   "cell_type": "markdown",
   "metadata": {},
   "source": [
    "## Solución de la dinámica"
   ]
  },
  {
   "cell_type": "code",
   "execution_count": 4,
   "metadata": {},
   "outputs": [],
   "source": [
    "#definir variables\n",
    "tList = np.linspace(0, 10, 1000)\n",
    "h = tList[1]-tList[0]"
   ]
  },
  {
   "cell_type": "code",
   "execution_count": 5,
   "metadata": {},
   "outputs": [],
   "source": [
    "#inicializar vector inicial\n",
    "def vectorPsiInit(N):\n",
    "    vec = np.zeros(2**N)\n",
    "    vec[0] = 1\n",
    "    return vec"
   ]
  },
  {
   "cell_type": "markdown",
   "metadata": {},
   "source": [
    "### Implementación RK4"
   ]
  },
  {
   "cell_type": "code",
   "execution_count": 6,
   "metadata": {},
   "outputs": [],
   "source": [
    "#derivada de la funcion\n",
    "def derivadaVectorPsi(state, oper):\n",
    "    return -1.0j * np.matmul(oper, state)"
   ]
  },
  {
   "cell_type": "code",
   "execution_count": 48,
   "metadata": {},
   "outputs": [],
   "source": [
    "#se define funcion rk4\n",
    "def rk4(func, oper, state, h):\n",
    "    k_1 = h*func(oper,state)\n",
    "    k_2 = h*func(oper,state+((k_1)/2))\n",
    "    k_3 = h*func(oper,state+((k_2)/2))\n",
    "    k_4 = h*func(oper,state+k_3)\n",
    "    return state + (k_1 + 2*k_2 + 2*k_3 + k_4)*(1/6)"
   ]
  },
  {
   "cell_type": "code",
   "execution_count": 49,
   "metadata": {},
   "outputs": [
    {
     "name": "stdout",
     "output_type": "stream",
     "text": [
      "Duración:  30.26484775543213\n"
     ]
    }
   ],
   "source": [
    "#se implementa el resultado\n",
    "tiempo_1 = time.time()\n",
    "\n",
    "vectorPsiRK4 = np.zeros(tList.size)\n",
    "vecRK4 = vectorPsiInit(10)\n",
    "\n",
    "for i in range(tList.size):\n",
    "    vectorPsiRK4[i] = vecRK4[0].real\n",
    "    vectorPsiN = rk4(derivadaVectorPsi, H, vecRK4, h)\n",
    "    vecRK4 = vectorPsiN\n",
    "\n",
    "tiempo_2 = time.time()\n",
    "print('Duración: ', tiempo_2 - tiempo_1)"
   ]
  },
  {
   "cell_type": "code",
   "execution_count": 65,
   "metadata": {},
   "outputs": [
    {
     "data": {
      "text/plain": [
       "<function matplotlib.pyplot.show(close=None, block=None)>"
      ]
     },
     "execution_count": 65,
     "metadata": {},
     "output_type": "execute_result"
    },
    {
     "data": {
      "image/png": "[encoded data removed]",
      "text/plain": [
       "<Figure size 432x288 with 1 Axes>"
      ]
     },
     "metadata": {
      "needs_background": "light"
     },
     "output_type": "display_data"
    }
   ],
   "source": [
    "plt.plot(tList, vectorPsiRK4)\n",
    "plt.title('RK4')\n",
    "plt.xlabel('Tiempo')\n",
    "plt.ylabel(r'$|\\psi(t) \\rangle$')\n",
    "\n",
    "plt.show"
   ]
  },
  {
   "cell_type": "markdown",
   "metadata": {},
   "source": [
    "### Solución Directa (Diagonalización)"
   ]
  },
  {
   "cell_type": "code",
   "execution_count": 22,
   "metadata": {},
   "outputs": [],
   "source": [
    "def diagonalizacion(t, t_0, vec, eigVals, eigVecs):\n",
    "    # base diagonal\n",
    "    eigVals = -1.0j * eigVals * (t - t_0)\n",
    "    expVals = np.exp(eigVals)\n",
    "    expD = np.diag(expVals)\n",
    "    \n",
    "    psi_d = np.dot(eigVecs.T, vec)\n",
    "    psi_t_d = np.dot(expD, psi_d)\n",
    "    \n",
    "    #base original\n",
    "    psi_t = np.dot(eigVecs, psi_t_d)\n",
    "    \n",
    "    return psi_t"
   ]
  },
  {
   "cell_type": "code",
   "execution_count": 23,
   "metadata": {},
   "outputs": [
    {
     "name": "stdout",
     "output_type": "stream",
     "text": [
      "Duración:  13.441778182983398\n"
     ]
    }
   ],
   "source": [
    "#implementación de la solución directa por diagonalización\n",
    "tiempo_3 = time.time()\n",
    "\n",
    "\n",
    "vectorPsiDiag = np.zeros(tList.size)\n",
    "vecDiag = vectorPsiInit(10)\n",
    "vecDiagCopy = vecDiag.copy()\n",
    "\n",
    "autoVal, autoVec = np.linalg.eigh(H)\n",
    "autoVecInv = np.linalg.inv(autoVec)\n",
    "\n",
    "for i in range(tList.size):\n",
    "    vectorPsiDiag[i] = vecDiag[0].real\n",
    "    vectorPsiN = diagonalizacion(tList[i], tList[0], vecDiagCopy, autoVal, autoVec)\n",
    "    vecDiag = vectorPsiN\n",
    "    \n",
    "tiempo_4 = time.time()\n",
    "\n",
    "print('Duración: ', tiempo_4 - tiempo_3)"
   ]
  },
  {
   "cell_type": "code",
   "execution_count": 24,
   "metadata": {},
   "outputs": [
    {
     "data": {
      "text/plain": [
       "<function matplotlib.pyplot.show(close=None, block=None)>"
      ]
     },
     "execution_count": 24,
     "metadata": {},
     "output_type": "execute_result"
    },
    {
     "data": {
      "image/png": "[encoded data removed]",
      "text/plain": [
       "<Figure size 432x288 with 1 Axes>"
      ]
     },
     "metadata": {
      "needs_background": "light"
     },
     "output_type": "display_data"
    }
   ],
   "source": [
    "plt.plot(tList, vectorPsiDiag)\n",
    "plt.title('Solución Directa')\n",
    "plt.xlabel('Tiempo')\n",
    "plt.ylabel(r'$|\\psi(t) \\rangle$')\n",
    "\n",
    "plt.show"
   ]
  },
  {
   "cell_type": "code",
   "execution_count": null,
   "metadata": {},
   "outputs": [],
   "source": []
  }
 ],
 "metadata": {
  "kernelspec": {
   "display_name": "Python 3",
   "language": "python",
   "name": "python3"
  },
  "language_info": {
   "codemirror_mode": {
    "name": "ipython",
    "version": 3
   },
   "file_extension": ".py",
   "mimetype": "text/x-python",
   "name": "python",
   "nbconvert_exporter": "python",
   "pygments_lexer": "ipython3",
   "version": "3.8.5"
  }
 },
 "nbformat": 4,
 "nbformat_minor": 4
}
